{
  "cells": [
    {
      "cell_type": "markdown",
      "metadata": {
        "id": "view-in-github",
        "colab_type": "text"
      },
      "source": [
        "<a href=\"https://colab.research.google.com/github/Frorozcoloa/FinancIA/blob/main/Notebooks/0-2%20Train_model.ipynb\" target=\"_parent\"><img src=\"https://colab.research.google.com/assets/colab-badge.svg\" alt=\"Open In Colab\"/></a>"
      ]
    },
    {
      "cell_type": "code",
      "execution_count": 14,
      "metadata": {
        "id": "epwoT-bYtT_E",
        "outputId": "4dd669a9-77b9-4033-da8e-ab54b96e8538",
        "colab": {
          "base_uri": "https://localhost:8080/"
        }
      },
      "outputs": [
        {
          "output_type": "stream",
          "name": "stdout",
          "text": [
            "Looking in indexes: https://pypi.org/simple, https://us-python.pkg.dev/colab-wheels/public/simple/\n",
            "Requirement already satisfied: transformers in /usr/local/lib/python3.9/dist-packages (4.28.1)\n",
            "Requirement already satisfied: wandb in /usr/local/lib/python3.9/dist-packages (0.14.2)\n",
            "Requirement already satisfied: torchmetrics in /usr/local/lib/python3.9/dist-packages (0.11.4)\n",
            "Requirement already satisfied: lightning in /usr/local/lib/python3.9/dist-packages (2.0.1.post0)\n",
            "Requirement already satisfied: packaging>=20.0 in /usr/local/lib/python3.9/dist-packages (from transformers) (23.0)\n",
            "Requirement already satisfied: regex!=2019.12.17 in /usr/local/lib/python3.9/dist-packages (from transformers) (2022.10.31)\n",
            "Requirement already satisfied: tokenizers!=0.11.3,<0.14,>=0.11.1 in /usr/local/lib/python3.9/dist-packages (from transformers) (0.13.3)\n",
            "Requirement already satisfied: numpy>=1.17 in /usr/local/lib/python3.9/dist-packages (from transformers) (1.22.4)\n",
            "Requirement already satisfied: huggingface-hub<1.0,>=0.11.0 in /usr/local/lib/python3.9/dist-packages (from transformers) (0.13.4)\n",
            "Requirement already satisfied: filelock in /usr/local/lib/python3.9/dist-packages (from transformers) (3.11.0)\n",
            "Requirement already satisfied: tqdm>=4.27 in /usr/local/lib/python3.9/dist-packages (from transformers) (4.65.0)\n",
            "Requirement already satisfied: requests in /usr/local/lib/python3.9/dist-packages (from transformers) (2.27.1)\n",
            "Requirement already satisfied: pyyaml>=5.1 in /usr/local/lib/python3.9/dist-packages (from transformers) (6.0)\n",
            "Requirement already satisfied: psutil>=5.0.0 in /usr/local/lib/python3.9/dist-packages (from wandb) (5.9.4)\n",
            "Requirement already satisfied: setproctitle in /usr/local/lib/python3.9/dist-packages (from wandb) (1.3.2)\n",
            "Requirement already satisfied: Click!=8.0.0,>=7.0 in /usr/local/lib/python3.9/dist-packages (from wandb) (8.1.3)\n",
            "Requirement already satisfied: GitPython!=3.1.29,>=1.0.0 in /usr/local/lib/python3.9/dist-packages (from wandb) (3.1.31)\n",
            "Requirement already satisfied: docker-pycreds>=0.4.0 in /usr/local/lib/python3.9/dist-packages (from wandb) (0.4.0)\n",
            "Requirement already satisfied: setuptools in /usr/local/lib/python3.9/dist-packages (from wandb) (67.6.1)\n",
            "Requirement already satisfied: typing-extensions in /usr/local/lib/python3.9/dist-packages (from wandb) (4.5.0)\n",
            "Requirement already satisfied: protobuf!=4.21.0,<5,>=3.15.0 in /usr/local/lib/python3.9/dist-packages (from wandb) (3.20.3)\n",
            "Requirement already satisfied: sentry-sdk>=1.0.0 in /usr/local/lib/python3.9/dist-packages (from wandb) (1.19.1)\n",
            "Requirement already satisfied: pathtools in /usr/local/lib/python3.9/dist-packages (from wandb) (0.1.2)\n",
            "Requirement already satisfied: appdirs>=1.4.3 in /usr/local/lib/python3.9/dist-packages (from wandb) (1.4.4)\n",
            "Requirement already satisfied: torch>=1.8.1 in /usr/local/lib/python3.9/dist-packages (from torchmetrics) (2.0.0+cu118)\n",
            "Requirement already satisfied: uvicorn<2.0 in /usr/local/lib/python3.9/dist-packages (from lightning) (0.21.1)\n",
            "Requirement already satisfied: starsessions<2.0,>=1.2.1 in /usr/local/lib/python3.9/dist-packages (from lightning) (1.3.0)\n",
            "Requirement already satisfied: beautifulsoup4<6.0,>=4.8.0 in /usr/local/lib/python3.9/dist-packages (from lightning) (4.11.2)\n",
            "Requirement already satisfied: fastapi<0.89.0 in /usr/local/lib/python3.9/dist-packages (from lightning) (0.88.0)\n",
            "Requirement already satisfied: urllib3<3.0 in /usr/local/lib/python3.9/dist-packages (from lightning) (1.26.15)\n",
            "Requirement already satisfied: fsspec<2024.0,>=2022.5.0 in /usr/local/lib/python3.9/dist-packages (from lightning) (2023.4.0)\n",
            "Requirement already satisfied: lightning-cloud>=0.5.31 in /usr/local/lib/python3.9/dist-packages (from lightning) (0.5.33)\n",
            "Requirement already satisfied: rich<15.0,>=12.3.0 in /usr/local/lib/python3.9/dist-packages (from lightning) (13.3.3)\n",
            "Requirement already satisfied: websockets<12.0 in /usr/local/lib/python3.9/dist-packages (from lightning) (11.0.1)\n",
            "Requirement already satisfied: lightning-utilities<2.0,>=0.7.0 in /usr/local/lib/python3.9/dist-packages (from lightning) (0.8.0)\n",
            "Requirement already satisfied: inquirer<5.0,>=2.10.0 in /usr/local/lib/python3.9/dist-packages (from lightning) (3.1.3)\n",
            "Requirement already satisfied: starlette<2.0 in /usr/local/lib/python3.9/dist-packages (from lightning) (0.22.0)\n",
            "Requirement already satisfied: traitlets<7.0,>=5.3.0 in /usr/local/lib/python3.9/dist-packages (from lightning) (5.7.1)\n",
            "Requirement already satisfied: deepdiff<8.0,>=5.7.0 in /usr/local/lib/python3.9/dist-packages (from lightning) (6.3.0)\n",
            "Requirement already satisfied: croniter<1.4.0,>=1.3.0 in /usr/local/lib/python3.9/dist-packages (from lightning) (1.3.14)\n",
            "Requirement already satisfied: Jinja2<5.0 in /usr/local/lib/python3.9/dist-packages (from lightning) (3.1.2)\n",
            "Requirement already satisfied: pydantic<3.0 in /usr/local/lib/python3.9/dist-packages (from lightning) (1.10.7)\n",
            "Requirement already satisfied: pytorch-lightning in /usr/local/lib/python3.9/dist-packages (from lightning) (2.0.1.post0)\n",
            "Requirement already satisfied: dateutils<2.0 in /usr/local/lib/python3.9/dist-packages (from lightning) (0.6.12)\n",
            "Requirement already satisfied: websocket-client<3.0 in /usr/local/lib/python3.9/dist-packages (from lightning) (1.5.1)\n",
            "Requirement already satisfied: arrow<3.0,>=1.2.0 in /usr/local/lib/python3.9/dist-packages (from lightning) (1.2.3)\n",
            "Requirement already satisfied: python-dateutil>=2.7.0 in /usr/local/lib/python3.9/dist-packages (from arrow<3.0,>=1.2.0->lightning) (2.8.2)\n",
            "Requirement already satisfied: soupsieve>1.2 in /usr/local/lib/python3.9/dist-packages (from beautifulsoup4<6.0,>=4.8.0->lightning) (2.4)\n",
            "Requirement already satisfied: pytz in /usr/local/lib/python3.9/dist-packages (from dateutils<2.0->lightning) (2022.7.1)\n",
            "Requirement already satisfied: ordered-set<4.2.0,>=4.0.2 in /usr/local/lib/python3.9/dist-packages (from deepdiff<8.0,>=5.7.0->lightning) (4.1.0)\n",
            "Requirement already satisfied: six>=1.4.0 in /usr/local/lib/python3.9/dist-packages (from docker-pycreds>=0.4.0->wandb) (1.16.0)\n",
            "Requirement already satisfied: anyio<5,>=3.4.0 in /usr/local/lib/python3.9/dist-packages (from starlette<2.0->lightning) (3.6.2)\n",
            "Requirement already satisfied: aiohttp!=4.0.0a0,!=4.0.0a1 in /usr/local/lib/python3.9/dist-packages (from fsspec<2024.0,>=2022.5.0->lightning) (3.8.4)\n",
            "Requirement already satisfied: gitdb<5,>=4.0.1 in /usr/local/lib/python3.9/dist-packages (from GitPython!=3.1.29,>=1.0.0->wandb) (4.0.10)\n",
            "Requirement already satisfied: blessed>=1.19.0 in /usr/local/lib/python3.9/dist-packages (from inquirer<5.0,>=2.10.0->lightning) (1.20.0)\n",
            "Requirement already satisfied: readchar>=3.0.6 in /usr/local/lib/python3.9/dist-packages (from inquirer<5.0,>=2.10.0->lightning) (4.0.5)\n",
            "Requirement already satisfied: python-editor>=1.0.4 in /usr/local/lib/python3.9/dist-packages (from inquirer<5.0,>=2.10.0->lightning) (1.0.4)\n",
            "Requirement already satisfied: MarkupSafe>=2.0 in /usr/local/lib/python3.9/dist-packages (from Jinja2<5.0->lightning) (2.1.2)\n",
            "Requirement already satisfied: python-multipart in /usr/local/lib/python3.9/dist-packages (from lightning-cloud>=0.5.31->lightning) (0.0.6)\n",
            "Requirement already satisfied: pyjwt in /usr/local/lib/python3.9/dist-packages (from lightning-cloud>=0.5.31->lightning) (2.6.0)\n",
            "Requirement already satisfied: idna<4,>=2.5 in /usr/local/lib/python3.9/dist-packages (from requests->transformers) (3.4)\n",
            "Requirement already satisfied: charset-normalizer~=2.0.0 in /usr/local/lib/python3.9/dist-packages (from requests->transformers) (2.0.12)\n",
            "Requirement already satisfied: certifi>=2017.4.17 in /usr/local/lib/python3.9/dist-packages (from requests->transformers) (2022.12.7)\n",
            "Requirement already satisfied: markdown-it-py<3.0.0,>=2.2.0 in /usr/local/lib/python3.9/dist-packages (from rich<15.0,>=12.3.0->lightning) (2.2.0)\n",
            "Requirement already satisfied: pygments<3.0.0,>=2.13.0 in /usr/local/lib/python3.9/dist-packages (from rich<15.0,>=12.3.0->lightning) (2.14.0)\n",
            "Requirement already satisfied: itsdangerous<3.0.0,>=2.0.1 in /usr/local/lib/python3.9/dist-packages (from starsessions<2.0,>=1.2.1->lightning) (2.1.2)\n",
            "Requirement already satisfied: triton==2.0.0 in /usr/local/lib/python3.9/dist-packages (from torch>=1.8.1->torchmetrics) (2.0.0)\n",
            "Requirement already satisfied: sympy in /usr/local/lib/python3.9/dist-packages (from torch>=1.8.1->torchmetrics) (1.11.1)\n",
            "Requirement already satisfied: networkx in /usr/local/lib/python3.9/dist-packages (from torch>=1.8.1->torchmetrics) (3.1)\n",
            "Requirement already satisfied: cmake in /usr/local/lib/python3.9/dist-packages (from triton==2.0.0->torch>=1.8.1->torchmetrics) (3.25.2)\n",
            "Requirement already satisfied: lit in /usr/local/lib/python3.9/dist-packages (from triton==2.0.0->torch>=1.8.1->torchmetrics) (16.0.1)\n",
            "Requirement already satisfied: h11>=0.8 in /usr/local/lib/python3.9/dist-packages (from uvicorn<2.0->lightning) (0.14.0)\n",
            "Requirement already satisfied: frozenlist>=1.1.1 in /usr/local/lib/python3.9/dist-packages (from aiohttp!=4.0.0a0,!=4.0.0a1->fsspec<2024.0,>=2022.5.0->lightning) (1.3.3)\n",
            "Requirement already satisfied: multidict<7.0,>=4.5 in /usr/local/lib/python3.9/dist-packages (from aiohttp!=4.0.0a0,!=4.0.0a1->fsspec<2024.0,>=2022.5.0->lightning) (6.0.4)\n",
            "Requirement already satisfied: yarl<2.0,>=1.0 in /usr/local/lib/python3.9/dist-packages (from aiohttp!=4.0.0a0,!=4.0.0a1->fsspec<2024.0,>=2022.5.0->lightning) (1.8.2)\n",
            "Requirement already satisfied: async-timeout<5.0,>=4.0.0a3 in /usr/local/lib/python3.9/dist-packages (from aiohttp!=4.0.0a0,!=4.0.0a1->fsspec<2024.0,>=2022.5.0->lightning) (4.0.2)\n",
            "Requirement already satisfied: aiosignal>=1.1.2 in /usr/local/lib/python3.9/dist-packages (from aiohttp!=4.0.0a0,!=4.0.0a1->fsspec<2024.0,>=2022.5.0->lightning) (1.3.1)\n",
            "Requirement already satisfied: attrs>=17.3.0 in /usr/local/lib/python3.9/dist-packages (from aiohttp!=4.0.0a0,!=4.0.0a1->fsspec<2024.0,>=2022.5.0->lightning) (22.2.0)\n",
            "Requirement already satisfied: sniffio>=1.1 in /usr/local/lib/python3.9/dist-packages (from anyio<5,>=3.4.0->starlette<2.0->lightning) (1.3.0)\n",
            "Requirement already satisfied: wcwidth>=0.1.4 in /usr/local/lib/python3.9/dist-packages (from blessed>=1.19.0->inquirer<5.0,>=2.10.0->lightning) (0.2.6)\n",
            "Requirement already satisfied: smmap<6,>=3.0.1 in /usr/local/lib/python3.9/dist-packages (from gitdb<5,>=4.0.1->GitPython!=3.1.29,>=1.0.0->wandb) (5.0.0)\n",
            "Requirement already satisfied: mdurl~=0.1 in /usr/local/lib/python3.9/dist-packages (from markdown-it-py<3.0.0,>=2.2.0->rich<15.0,>=12.3.0->lightning) (0.1.2)\n",
            "Requirement already satisfied: mpmath>=0.19 in /usr/local/lib/python3.9/dist-packages (from sympy->torch>=1.8.1->torchmetrics) (1.3.0)\n"
          ]
        }
      ],
      "source": [
        "!pip install transformers wandb torchmetrics lightning"
      ]
    },
    {
      "cell_type": "code",
      "source": [
        "import numpy as np\n",
        "import pandas as pd\n",
        "from sklearn.model_selection import train_test_split\n",
        "from sklearn.metrics import accuracy_score, f1_score\n",
        "import wandb\n",
        "import pandas as pd\n",
        "import torch\n",
        "from torch.utils.data import Dataset\n",
        "from transformers import set_seed\n",
        "from torch import nn\n",
        "\n",
        "def SEED(seed):\n",
        "    torch.manual_seed(seed)\n",
        "    np.random.seed(seed)\n",
        "    set_seed(seed)\n",
        "\n",
        "\n",
        "SEED(42)\n",
        "\n",
        "\n",
        "# Configuration by model\n",
        "NUM_VARAIBLES = 3\n",
        "NUM_LABELS = 3\n",
        "num_labels = NUM_LABELS * NUM_VARAIBLES\n",
        "model_name = \"pysentimiento/roberta-es-sentiment\"\n",
        "\n",
        "divice = torch.device('cuda' if torch.cuda.is_available() else 'cpu')"
      ],
      "metadata": {
        "id": "HH7wdTX7tX8p"
      },
      "execution_count": 15,
      "outputs": []
    },
    {
      "cell_type": "code",
      "execution_count": 16,
      "metadata": {
        "id": "0eDkRBbStT_H",
        "outputId": "0c2f0b46-d918-43e7-a4c6-dc84c6b3d9ba",
        "colab": {
          "base_uri": "https://localhost:8080/"
        }
      },
      "outputs": [
        {
          "output_type": "stream",
          "name": "stderr",
          "text": [
            "Some weights of RobertaForSequenceClassification were not initialized from the model checkpoint at pysentimiento/robertuito-sentiment-analysis and are newly initialized because the shapes did not match:\n",
            "- classifier.out_proj.weight: found shape torch.Size([3, 768]) in the checkpoint and torch.Size([9, 768]) in the model instantiated\n",
            "- classifier.out_proj.bias: found shape torch.Size([3]) in the checkpoint and torch.Size([9]) in the model instantiated\n",
            "You should probably TRAIN this model on a down-stream task to be able to use it for predictions and inference.\n"
          ]
        }
      ],
      "source": [
        "from transformers import ( \n",
        "    AutoModelForSequenceClassification,\n",
        "    AutoTokenizer,\n",
        "    get_constant_schedule_with_warmup,\n",
        ")\n",
        "\n",
        "# Configuring the model\n",
        "num_labels = NUM_LABELS * NUM_VARAIBLES\n",
        "# model_name = \"pysentimiento/roberta-es-sentiment\"\n",
        "model_name = \"pysentimiento/robertuito-sentiment-analysis\"\n",
        "auto_tokenizer = AutoTokenizer.from_pretrained(model_name)\n",
        "model = AutoModelForSequenceClassification.from_pretrained(model_name, num_labels=num_labels, ignore_mismatched_sizes=True)"
      ]
    },
    {
      "cell_type": "code",
      "source": [
        "auto_tokenizer.encode_plus(\"Hola mundo\")"
      ],
      "metadata": {
        "id": "w3nFGjgtXfUF",
        "outputId": "02604f27-2a05-4421-c99d-2ce6b760c252",
        "colab": {
          "base_uri": "https://localhost:8080/"
        }
      },
      "execution_count": 24,
      "outputs": [
        {
          "output_type": "execute_result",
          "data": {
            "text/plain": [
              "{'input_ids': [0, 1878, 1079, 2], 'token_type_ids': [0, 0, 0, 0], 'attention_mask': [1, 1, 1, 1]}"
            ]
          },
          "metadata": {},
          "execution_count": 24
        }
      ]
    },
    {
      "cell_type": "code",
      "source": [
        "class FinanciaSentimental(Dataset):\n",
        "    \"\"\"This class is used to load the data and tokenize it\"\"\"\n",
        "    def __init__(self, tokenizer, dataframe):\n",
        "        self.tokenizer = tokenizer\n",
        "        self.dataframe = dataframe\n",
        "        ## Columns to target\n",
        "        self._columns = [\"target_sentiment\", \"companies_sentiment\", \"consumers_sentiment\"]\n",
        "    \n",
        "    @property\n",
        "    def columns(self):\n",
        "        \"\"\"Return the columns to target\"\"\"\n",
        "        return self._columns\n",
        "\n",
        "    def __len__(self):\n",
        "        \"\"\"Return the length of the dataset\"\"\"\n",
        "        return self.dataframe.count()\n",
        "        \n",
        "    def __getitem__(self, index):\n",
        "        \"\"\"Get the data at the index\"\"\"\n",
        "        values = self.dataframe.iloc[index]\n",
        "        text = values['text']\n",
        "        label = pd.get_dummies(values[self._columns], columns=[self._columns]).values.astype(np.int8)\n",
        "        inputs = self.tokenizer.encode_plus(\n",
        "            text,\n",
        "            add_special_tokens=True,\n",
        "            return_token_type_ids=False,\n",
        "            padding='max_length',\n",
        "            truncation=True,\n",
        "            max_length=512,\n",
        "            return_attention_mask=True,\n",
        "            return_tensors='pt'\n",
        "        )\n",
        "        label = torch.tensor(label, dtype=torch.int8)\n",
        "        return inputs['input_ids'].squeeze(0), inputs['attention_mask'].squeeze(0)"
      ],
      "metadata": {
        "id": "Lhl4Jh_1HT54"
      },
      "execution_count": 17,
      "outputs": []
    },
    {
      "cell_type": "code",
      "execution_count": 18,
      "metadata": {
        "id": "fOD5WnybtT_I"
      },
      "outputs": [],
      "source": [
        "from torchmetrics import Accuracy, F1Score, Precision, Recall\n",
        "import lightning.pytorch as pl\n",
        "\n",
        "class FinanciaMultilabel(pl.LightningModule):\n",
        "    \"\"\"This class is used to create the model\"\"\"\n",
        "    def __init__(self, num_labels, model_name, class_weights):\n",
        "        super().__init__()\n",
        "        self.num_labels = num_labels\n",
        "        # The models is multi-label, so we need to use BCEWithLogitsLoss\n",
        "        self.loss = nn.BCEWithLogitsLoss(pos_weight=class_weights, reduction='none')\n",
        "        self.model = AutoModelForSequenceClassification.from_pretrained(model_name, num_labels=self.num_labels, ignore_mismatched_sizes=True)\n",
        "        self._tokenizer = AutoTokenizer.from_pretrained(model_name)\n",
        "        #Metrics for the model for training\n",
        "        self.train_f1 = F1Score(task = \"multilabel\", num_classes=self.num_labels)\n",
        "        self.train_accuracy = Accuracy(task =\"multilabel\", num_classes=self.num_labels)\n",
        "        self.train_precision = Precision(task =\"multilabel\", num_classes=self.num_labels)\n",
        "        self.train_recall = Recall(task =\"multilabel\", num_classes=self.num_labels)\n",
        "        # Metrics for the model for validation\n",
        "        self.val_f1 = F1Score(task = \"multilabel\", num_classes=self.num_labels)\n",
        "        self.val_accuracy = Accuracy(task =\"multilabel\", num_classes=self.num_labels)\n",
        "        self.val_precision = Precision(task =\"multilabel\", num_classes=self.num_labels)\n",
        "        self.val_recall = Recall(task =\"multilabel\", num_classes=self.num_labels)\n",
        "        \n",
        "        self.save_hyperparameters()\n",
        "\n",
        "    def forward(self, input_ids, attention_mask):\n",
        "        \"\"\"This function is used to forward the data through the model\"\"\"\n",
        "        output = self.model(input_ids, attention_mask=attention_mask)\n",
        "        logits = output.logits\n",
        "        return logits\n",
        "\n",
        "    def training_step(self, batch, batch_idx):\n",
        "        \"\"\"This function is used to train the model\"\"\"\n",
        "        input_ids, attention_mask, labels = batch\n",
        "        logits = self(input_ids, attention_mask)\n",
        "        train_loss = self.loss(logits, labels)\n",
        "        train_acc = self.train_accuracy(logits, labels)\n",
        "        train_f1 = self.train_f1(logits, labels)\n",
        "        train_score = self.train_precision(logits, labels)\n",
        "        train_recall = self.train_recall(logits, labels)\n",
        "        self.log(\"train/loss\", train_loss, on_step=False, on_epoch=True)\n",
        "        self.log(\"train/accuracy\", self.train_accuracy, on_step=False, on_epoch=True)\n",
        "        self.log(\"train/precision\", self.train_precision, on_step=False, on_epoch=True)\n",
        "        self.log(\"train/recall\", self.train_recall, on_step=False, on_epoch=True)\n",
        "        self.log(\"train/f1_score\", self.train_f1_score, on_step=False, on_epoch=True)\n",
        "        return train_loss\n",
        "\n",
        "    def validation_step(self, batch, batch_idx):\n",
        "        \"\"\"This function is used to validate the model\"\"\"\n",
        "        input_ids, attention_mask, labels = batch\n",
        "        logits = self(input_ids, attention_mask)\n",
        "        val_loss = self.loss(logits, labels)\n",
        "        val_acc = self.val_accuracy(logits, labels)\n",
        "        val_f1 = self.val_f1(logits, labels)\n",
        "        val_recall = self.val_recall(logits, labels)\n",
        "        val_precision = self.val_precision(logits, labels)\n",
        "        \n",
        "        self.log(\"val/loss\", val_loss, on_step=False, on_epoch=True)\n",
        "        self.log(\"val/accuracy\", self.val_accuracy, on_step=False, on_epoch=True)\n",
        "        self.log(\"val/precision\", self.val_precision, on_step=False, on_epoch=True)\n",
        "        self.log(\"val/recall\", self.val_recall, on_step=False, on_epoch=True)\n",
        "        self.log(\"val/f1_score\", self.val_f1_score, on_step=False, on_epoch=True)\n",
        "        self.log(\"val/loss\", val_loss, on_step=False, on_epoch=True)\n",
        "        return val_loss\n",
        "\n",
        "    def configure_optimizers(self):\n",
        "        \"\"\"This function is used to configure the optimizer\"\"\"\n",
        "        optimizer = torch.optim.AdamW\n"
      ]
    },
    {
      "cell_type": "code",
      "source": [
        "from google.colab import drive\n",
        "drive.mount('/content/drive')"
      ],
      "metadata": {
        "colab": {
          "base_uri": "https://localhost:8080/"
        },
        "id": "mm0B6GdXKnqt",
        "outputId": "e14215b9-a81c-441b-aecb-bec946f3f481"
      },
      "execution_count": 19,
      "outputs": [
        {
          "output_type": "stream",
          "name": "stdout",
          "text": [
            "Drive already mounted at /content/drive; to attempt to forcibly remount, call drive.mount(\"/content/drive\", force_remount=True).\n"
          ]
        }
      ]
    },
    {
      "cell_type": "code",
      "source": [
        "train_df = \"/content/drive/Shareddrives/Redes neuronales/Datasets/train.csv\"\n",
        "df = pd.read_csv(train_df)\n",
        "train, test = train_test_split(df, test_size=0.2)\n",
        "valid, test = train_test_split(test, test_size=0.5)"
      ],
      "metadata": {
        "id": "_KZEVfRKJ_ef"
      },
      "execution_count": 21,
      "outputs": []
    },
    {
      "cell_type": "code",
      "source": [
        "train_dataset = FinanciaSentimental(auto_tokenizer, train)\n",
        "test_dataset = FinanciaSentimental(auto_tokenizer, train)"
      ],
      "metadata": {
        "id": "UreLqvPsKY0W"
      },
      "execution_count": 22,
      "outputs": []
    },
    {
      "cell_type": "code",
      "source": [
        "model = FinanciaMultilabel(model_name num_classes=9)\n",
        "tokenizer = AutoTokenizer.from_pretrained(model_name)\n",
        "train_data = IMDBDataset(tokenizer, train_texts, train_labels)\n",
        "val_data = IMDBDataset(tokenizer, val_texts, val_labels)\n",
        "test_data = IMDBDataset(tokenizer, test_texts, test_labels)\n",
        "train_loader = DataLoader(train_data, batch_size=8, shuffle=True)\n",
        "val_loader = DataLoader(val_data, batch_size=8)\n",
        "test_loader = DataLoader(test_data, batch_size=8)\n",
        "wandb.init(project='my-project-name', config={\n",
        "    'batch_size': 8,\n",
        "    'learning_rate': 2e-5\n",
        "})\n",
        "trainer = pl.Trainer(gpus=1, max_epochs=10)\n",
        "trainer.fit(model, train_loader, val_loader)\n",
        "trainer.test(model, test_loader)\n",
        "wandb.log({'test_loss': trainer.callback_metrics['test_loss'].item()})"
      ],
      "metadata": {
        "id": "-SWP1ooSG-56"
      },
      "execution_count": null,
      "outputs": []
    }
  ],
  "metadata": {
    "kernelspec": {
      "display_name": "env",
      "language": "python",
      "name": "python3"
    },
    "language_info": {
      "codemirror_mode": {
        "name": "ipython",
        "version": 3
      },
      "file_extension": ".py",
      "mimetype": "text/x-python",
      "name": "python",
      "nbconvert_exporter": "python",
      "pygments_lexer": "ipython3",
      "version": "3.10.10"
    },
    "orig_nbformat": 4,
    "colab": {
      "provenance": [],
      "include_colab_link": true
    }
  },
  "nbformat": 4,
  "nbformat_minor": 0
}